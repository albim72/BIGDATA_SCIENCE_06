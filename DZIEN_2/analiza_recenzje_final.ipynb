{
  "nbformat": 4,
  "nbformat_minor": 0,
  "metadata": {
    "colab": {
      "provenance": []
    },
    "kernelspec": {
      "name": "python3",
      "display_name": "Python 3"
    },
    "language_info": {
      "name": "python"
    }
  },
  "cells": [
    {
      "cell_type": "code",
      "execution_count": 1,
      "metadata": {
        "id": "p1-ldd9in-4u"
      },
      "outputs": [],
      "source": [
        "import matplotlib.pyplot as plt\n",
        "import os\n",
        "import re\n",
        "import shutil\n",
        "import string\n",
        "import tensorflow as tf\n",
        "from tensorflow.keras import layers\n",
        "from tensorflow.keras import losses"
      ]
    },
    {
      "cell_type": "code",
      "source": [
        "url = \"https://ai.stanford.edu/~amaas/data/sentiment/aclImdb_v1.tar.gz\"\n",
        "dataset = tf.keras.utils.get_file(\"aclImdb_v1\",url,untar=True,cache_dir='.',cache_subdir='')\n",
        "\n",
        "dataset_dir = os.path.join(os.path.dirname(dataset),'aclImdb')"
      ],
      "metadata": {
        "colab": {
          "base_uri": "https://localhost:8080/"
        },
        "id": "RaWfoTtOpuMQ",
        "outputId": "6101efb1-62b5-4897-f9d5-e7075006db27"
      },
      "execution_count": 2,
      "outputs": [
        {
          "output_type": "stream",
          "name": "stdout",
          "text": [
            "Downloading data from https://ai.stanford.edu/~amaas/data/sentiment/aclImdb_v1.tar.gz\n",
            "84125825/84125825 [==============================] - 6s 0us/step\n"
          ]
        }
      ]
    },
    {
      "cell_type": "code",
      "source": [
        "os.listdir(dataset_dir)"
      ],
      "metadata": {
        "colab": {
          "base_uri": "https://localhost:8080/"
        },
        "id": "RoaVTaGXskNs",
        "outputId": "3351697d-506d-49a5-91d8-332b177b0f69"
      },
      "execution_count": 3,
      "outputs": [
        {
          "output_type": "execute_result",
          "data": {
            "text/plain": [
              "['README', 'train', 'imdb.vocab', 'imdbEr.txt', 'test']"
            ]
          },
          "metadata": {},
          "execution_count": 3
        }
      ]
    },
    {
      "cell_type": "code",
      "source": [
        "train_dir = os.path.join(dataset_dir,'train')\n",
        "os.listdir(train_dir)"
      ],
      "metadata": {
        "colab": {
          "base_uri": "https://localhost:8080/"
        },
        "id": "b_hAHESNtOVh",
        "outputId": "913fabf4-6057-4f16-b000-b2b528dd4cc8"
      },
      "execution_count": 4,
      "outputs": [
        {
          "output_type": "execute_result",
          "data": {
            "text/plain": [
              "['labeledBow.feat',\n",
              " 'unsup',\n",
              " 'pos',\n",
              " 'urls_pos.txt',\n",
              " 'unsupBow.feat',\n",
              " 'neg',\n",
              " 'urls_neg.txt',\n",
              " 'urls_unsup.txt']"
            ]
          },
          "metadata": {},
          "execution_count": 4
        }
      ]
    },
    {
      "cell_type": "code",
      "source": [
        "remove_dir = os.path.join(train_dir,'unsup')\n",
        "shutil.rmtree(remove_dir)"
      ],
      "metadata": {
        "id": "qUckGBBAuvYC"
      },
      "execution_count": 5,
      "outputs": []
    },
    {
      "cell_type": "code",
      "source": [
        "os.listdir(train_dir)"
      ],
      "metadata": {
        "colab": {
          "base_uri": "https://localhost:8080/"
        },
        "id": "ie0sVCF5u_Oz",
        "outputId": "c9bcf7c1-4984-4c2d-b654-6ecaf83d7140"
      },
      "execution_count": 6,
      "outputs": [
        {
          "output_type": "execute_result",
          "data": {
            "text/plain": [
              "['labeledBow.feat',\n",
              " 'pos',\n",
              " 'urls_pos.txt',\n",
              " 'unsupBow.feat',\n",
              " 'neg',\n",
              " 'urls_neg.txt',\n",
              " 'urls_unsup.txt']"
            ]
          },
          "metadata": {},
          "execution_count": 6
        }
      ]
    },
    {
      "cell_type": "code",
      "source": [
        "sample_file = os.path.join(train_dir,'pos/1181_9.txt')\n",
        "with open(sample_file) as f:\n",
        "  print(f.read())"
      ],
      "metadata": {
        "colab": {
          "base_uri": "https://localhost:8080/"
        },
        "id": "DjNDyyQFvbiF",
        "outputId": "553c48d3-7ffc-4bf3-b377-73fe11a57de5"
      },
      "execution_count": 7,
      "outputs": [
        {
          "output_type": "stream",
          "name": "stdout",
          "text": [
            "Rachel Griffiths writes and directs this award winning short film. A heartwarming story about coping with grief and cherishing the memory of those we've loved and lost. Although, only 15 minutes long, Griffiths manages to capture so much emotion and truth onto film in the short space of time. Bud Tingwell gives a touching performance as Will, a widower struggling to cope with his wife's death. Will is confronted by the harsh reality of loneliness and helplessness as he proceeds to take care of Ruth's pet cow, Tulip. The film displays the grief and responsibility one feels for those they have loved and lost. Good cinematography, great direction, and superbly acted. It will bring tears to all those who have lost a loved one, and survived.\n"
          ]
        }
      ]
    },
    {
      "cell_type": "code",
      "source": [
        "batch_size = 32\n",
        "seed = 42\n",
        "\n",
        "raw_train_ds = tf.keras.utils.text_dataset_from_directory(\n",
        "    'aclImdb/train',\n",
        "    batch_size=batch_size,\n",
        "    validation_split = 0.2,\n",
        "    subset='training',\n",
        "    seed=seed\n",
        "\n",
        ")"
      ],
      "metadata": {
        "colab": {
          "base_uri": "https://localhost:8080/"
        },
        "id": "qSwoJE-Kwab-",
        "outputId": "7a7a1214-5a39-40b9-9659-45a1cd2cd1d7"
      },
      "execution_count": 8,
      "outputs": [
        {
          "output_type": "stream",
          "name": "stdout",
          "text": [
            "Found 25000 files belonging to 2 classes.\n",
            "Using 20000 files for training.\n"
          ]
        }
      ]
    },
    {
      "cell_type": "code",
      "source": [
        "for text_batch,label_batch in raw_train_ds.take(1):\n",
        "  for i in range(3):\n",
        "    print(f\"Recenzja: {text_batch.numpy()[i]}\")\n",
        "    print(f\"Etykieta: {label_batch.numpy()[i]}\")"
      ],
      "metadata": {
        "colab": {
          "base_uri": "https://localhost:8080/"
        },
        "id": "vulQsg68yphT",
        "outputId": "669e49a9-90a4-4979-e683-c0aa72c21682"
      },
      "execution_count": 9,
      "outputs": [
        {
          "output_type": "stream",
          "name": "stdout",
          "text": [
            "Recenzja: b'\"Pandemonium\" is a horror movie spoof that comes off more stupid than funny. Believe me when I tell you, I love comedies. Especially comedy spoofs. \"Airplane\", \"The Naked Gun\" trilogy, \"Blazing Saddles\", \"High Anxiety\", and \"Spaceballs\" are some of my favorite comedies that spoof a particular genre. \"Pandemonium\" is not up there with those films. Most of the scenes in this movie had me sitting there in stunned silence because the movie wasn\\'t all that funny. There are a few laughs in the film, but when you watch a comedy, you expect to laugh a lot more than a few times and that\\'s all this film has going for it. Geez, \"Scream\" had more laughs than this film and that was more of a horror film. How bizarre is that?<br /><br />*1/2 (out of four)'\n",
            "Etykieta: 0\n",
            "Recenzja: b\"David Mamet is a very interesting and a very un-equal director. His first movie 'House of Games' was the one I liked best, and it set a series of films with characters whose perspective of life changes as they get into complicated situations, and so does the perspective of the viewer.<br /><br />So is 'Homicide' which from the title tries to set the mind of the viewer to the usual crime drama. The principal characters are two cops, one Jewish and one Irish who deal with a racially charged area. The murder of an old Jewish shop owner who proves to be an ancient veteran of the Israeli Independence war triggers the Jewish identity in the mind and heart of the Jewish detective.<br /><br />This is were the flaws of the film are the more obvious. The process of awakening is theatrical and hard to believe, the group of Jewish militants is operatic, and the way the detective eventually walks to the final violent confrontation is pathetic. The end of the film itself is Mamet-like smart, but disappoints from a human emotional perspective.<br /><br />Joe Mantegna and William Macy give strong performances, but the flaws of the story are too evident to be easily compensated.\"\n",
            "Etykieta: 0\n",
            "Recenzja: b'Great documentary about the lives of NY firefighters during the worst terrorist attack of all time.. That reason alone is why this should be a must see collectors item.. What shocked me was not only the attacks, but the\"High Fat Diet\" and physical appearance of some of these firefighters. I think a lot of Doctors would agree with me that,in the physical shape they were in, some of these firefighters would NOT of made it to the 79th floor carrying over 60 lbs of gear. Having said that i now have a greater respect for firefighters and i realize becoming a firefighter is a life altering job. The French have a history of making great documentary\\'s and that is what this is, a Great Documentary.....'\n",
            "Etykieta: 1\n"
          ]
        }
      ]
    },
    {
      "cell_type": "code",
      "source": [
        "print(f'etykieta 0 -> {raw_train_ds.class_names[0]}')\n",
        "print(f'etykieta 1 -> {raw_train_ds.class_names[1]}')"
      ],
      "metadata": {
        "colab": {
          "base_uri": "https://localhost:8080/"
        },
        "id": "yhx2difjzMq3",
        "outputId": "e13fb1a4-2a51-4946-f6c2-da975941f493"
      },
      "execution_count": 10,
      "outputs": [
        {
          "output_type": "stream",
          "name": "stdout",
          "text": [
            "etykieta 0 -> neg\n",
            "etykieta 1 -> pos\n"
          ]
        }
      ]
    },
    {
      "cell_type": "code",
      "source": [
        "raw_val_ds = tf.keras.utils.text_dataset_from_directory(\n",
        "    'aclImdb/train',\n",
        "    batch_size=batch_size,\n",
        "    validation_split = 0.2,\n",
        "    subset='validation',\n",
        "    seed=seed\n",
        "\n",
        ")"
      ],
      "metadata": {
        "colab": {
          "base_uri": "https://localhost:8080/"
        },
        "id": "xDf4o6fK0O0C",
        "outputId": "9f469621-f453-4703-d7dd-419f7ec4ee1b"
      },
      "execution_count": 11,
      "outputs": [
        {
          "output_type": "stream",
          "name": "stdout",
          "text": [
            "Found 25000 files belonging to 2 classes.\n",
            "Using 5000 files for validation.\n"
          ]
        }
      ]
    },
    {
      "cell_type": "code",
      "source": [
        "raw_test_ds = tf.keras.utils.text_dataset_from_directory(\n",
        "    'aclImdb/test',\n",
        "    batch_size=batch_size\n",
        "\n",
        ")"
      ],
      "metadata": {
        "colab": {
          "base_uri": "https://localhost:8080/"
        },
        "id": "Efm6d2gz1nA5",
        "outputId": "58f619bc-ece5-4509-fa23-bc2b38ed1b84"
      },
      "execution_count": 12,
      "outputs": [
        {
          "output_type": "stream",
          "name": "stdout",
          "text": [
            "Found 25000 files belonging to 2 classes.\n"
          ]
        }
      ]
    },
    {
      "cell_type": "code",
      "source": [
        "#standardyzacja danych tekstowych\n",
        "def custom_standardization(input_data):\n",
        "  lowercase=tf.strings.lower(input_data)\n",
        "  stripped_html = tf.strings.regex_replace(lowercase,'<br />',' ')\n",
        "  return tf.strings.regex_replace(stripped_html,'[%s]' %re.escape(string.punctuation),'')"
      ],
      "metadata": {
        "id": "CDVNeDt818KH"
      },
      "execution_count": 13,
      "outputs": []
    },
    {
      "cell_type": "code",
      "source": [
        "#wektoryzacja tesktu\n",
        "max_features = 10000\n",
        "sequence_length = 250\n",
        "\n",
        "vectorize_layer = layers.TextVectorization(\n",
        "    standardize = custom_standardization,\n",
        "    max_tokens = max_features,\n",
        "    output_mode = 'int',\n",
        "    output_sequence_length = sequence_length\n",
        ")\n"
      ],
      "metadata": {
        "id": "k296dFyl4GTE"
      },
      "execution_count": 15,
      "outputs": []
    },
    {
      "cell_type": "code",
      "source": [
        "train_text = raw_train_ds.map(lambda x,y:x)\n",
        "vectorize_layer.adapt(train_text)"
      ],
      "metadata": {
        "id": "yC_sn8pA8IBX"
      },
      "execution_count": 16,
      "outputs": []
    },
    {
      "cell_type": "code",
      "source": [
        "def vectorize_text(text,label):\n",
        "  text = tf.expand_dims(text,-1)\n",
        "  return vectorize_layer(text),label"
      ],
      "metadata": {
        "id": "9vuYRiyoOlhC"
      },
      "execution_count": 17,
      "outputs": []
    },
    {
      "cell_type": "code",
      "source": [
        "text_batch,label_batch = next(iter(raw_test_ds))\n",
        "first_review,first_label = text_batch[0],label_batch[0]\n",
        "print(f'recenzja: {first_review}')\n",
        "print(f'etykieta: {first_label}')\n",
        "print(f'widok zwektoryzowany:\\n{vectorize_text(first_review,first_label)}')"
      ],
      "metadata": {
        "colab": {
          "base_uri": "https://localhost:8080/"
        },
        "id": "gkFJSofyP4Fj",
        "outputId": "dc042fc2-b81c-477a-8dc7-d91e3dadff87"
      },
      "execution_count": 18,
      "outputs": [
        {
          "output_type": "stream",
          "name": "stdout",
          "text": [
            "recenzja: b\"This movie has one of the worst lead characters ever. I say this because he is made out to be the hero when, in my opinion, everything he does in the whole movie screws up people's lives and causes problems. He can do nothing right, yet the movie makes him seem like the cool dude everyone should be looking up to. He has temper tantrums at all the wrong times, he has all the wrong stances on things that end up making people mad at him and getting people killed, he is too nosy, too pushy, too macho, too assuming, makes all the wrong decisions and has no common sense. <br /><br />It's about a private detective hired by a successful painter to find the woman and son that he walked out on years ago. The detective finds the woman and what he thinks to be her son. However, all kinds of things happen to make this story full of crime, drama and twists. It's made for TV, what do you expect?<br /><br />Anyhow, the movie is fairly entertaining. Johnny Depp is very young in this one and has an awful 80's haircut. He chews gum and tosses a soccer ball around for about 5 minutes and that is all we get to see of him.<br /><br />For some reason, the out of print VHS version of this sells for $40 in online auctions. It must be for Johnny Depp collectors only. It couldn't be because of the plot. It couldn't be.<br /><br />\"\n",
            "etykieta: 0\n",
            "widok zwektoryzowany:\n",
            "(<tf.Tensor: shape=(1, 250), dtype=int64, numpy=\n",
            "array([[  11,   17,   43,   28,    5,    2,  241,  486,  100,  121,   10,\n",
            "         131,   11,   84,   27,    7,   90,   44,    6,   26,    2,  660,\n",
            "          51,    8,   54,  635,  276,   27,  120,    8,    2,  211,   17,\n",
            "           1,   56, 1818,  442,    3, 2879,  686,   27,   68,   82,  155,\n",
            "         205,  240,    2,   17,  158,   85,  295,   38,    2,  626, 2783,\n",
            "         302,  139,   26,  288,   56,    6,   27,   43, 7721,    1,   31,\n",
            "          30,    2,  337,  206,   27,   43,   30,    2,  337,    1,   20,\n",
            "         175,   12,  124,   56,  249,   79, 1084,   31,   85,    3,  383,\n",
            "          79,  546,   27,    7,   99,    1,   99,    1,   99, 6104,   99,\n",
            "        5221,  158,   30,    2,  337, 3814,    3,   43,   57, 1096,  271,\n",
            "          29,   42,    4, 1854, 1216, 2589,   32,    4, 1103, 6394,    6,\n",
            "         163,    2,  246,    3,  489,   12,   27, 2415,   44,   20,  149,\n",
            "         589,    2, 1216,  631,    2,  246,    3,   48,   27, 1239,    6,\n",
            "          26,   39,  489,  189,   30, 2480,    5,  175,  562,    6,   96,\n",
            "          11,   63,  374,    5,  837,  479,    3, 1252,   29,   90,   15,\n",
            "         243,   48,   82,   22,  507, 5966,    2,   17,    7,  996,  424,\n",
            "        1758,    1,    7,   52,  181,    8,   11,   28,    3,   43,   33,\n",
            "         365,  858,    1,   27,    1,    1,    3,    1,    4, 4140, 1977,\n",
            "         183,   15,   42,  661,  226,    3,   12,    7,   30,   71,   75,\n",
            "           6,   67,    5,   85,   15,   46,  273,    2,   44,    5, 2586,\n",
            "        1897,  310,    5,   11, 7042,   15, 1763,    8, 4774,    1,    9,\n",
            "         219,   26,   15, 1758,    1,    1,   61,    9,  403,   26,   84,\n",
            "           5,    2,  111,    9,  403,   26,    0,    0]])>, <tf.Tensor: shape=(), dtype=int32, numpy=0>)\n"
          ]
        }
      ]
    },
    {
      "cell_type": "code",
      "source": [
        "print(f'15 -> {vectorize_layer.get_vocabulary()[15]}')\n",
        "print(f'1 -> {vectorize_layer.get_vocabulary()[1]}')\n",
        "print(f'5 -> {vectorize_layer.get_vocabulary()[5]}')\n",
        "print(f'1287 -> {vectorize_layer.get_vocabulary()[1287]}')\n",
        "print(f'313 -> {vectorize_layer.get_vocabulary()[313]}')\n",
        "print(f'rozmiar słownika -> {len(vectorize_layer.get_vocabulary())}')"
      ],
      "metadata": {
        "colab": {
          "base_uri": "https://localhost:8080/"
        },
        "id": "cVDaexqPSExC",
        "outputId": "fd7ae501-98eb-4570-a770-93cf048ebe03"
      },
      "execution_count": 22,
      "outputs": [
        {
          "output_type": "stream",
          "name": "stdout",
          "text": [
            "15 -> for\n",
            "1 -> [UNK]\n",
            "5 -> of\n",
            "1287 -> silent\n",
            "313 -> night\n",
            "rozmiar słownika -> 10000\n"
          ]
        }
      ]
    },
    {
      "cell_type": "code",
      "source": [
        "train_ds = raw_train_ds.map(vectorize_text)\n",
        "val_ds = raw_val_ds.map(vectorize_text)\n",
        "test_ds = raw_test_ds.map(vectorize_text)\n"
      ],
      "metadata": {
        "id": "Lymh-Y_pTT4D"
      },
      "execution_count": 27,
      "outputs": []
    },
    {
      "cell_type": "code",
      "source": [
        "AUTOTUNE = tf.data.AUTOTUNE\n",
        "\n",
        "val_ds = val_ds.cache().prefetch(buffer_size=AUTOTUNE)\n",
        "train_ds = train_ds.cache().prefetch(buffer_size=AUTOTUNE)\n",
        "test_ds = test_ds.cache().prefetch(buffer_size=AUTOTUNE)"
      ],
      "metadata": {
        "id": "Rtlq-YSATqmg"
      },
      "execution_count": 30,
      "outputs": []
    },
    {
      "cell_type": "code",
      "source": [
        "#tworzenie modelu\n",
        "embedding_dim = 16\n",
        "\n",
        "model = tf.keras.Sequential([\n",
        "    layers.Embedding(max_features+1,embedding_dim),\n",
        "    layers.Dropout(0.2),\n",
        "    layers.GlobalAveragePooling1D(),\n",
        "    layers.Dropout(0.2),\n",
        "    layers.Dense(1)\n",
        "\n",
        "])\n",
        "model.summary()"
      ],
      "metadata": {
        "colab": {
          "base_uri": "https://localhost:8080/"
        },
        "id": "e9HqHQNAUb4b",
        "outputId": "6dcaff98-cde5-4f47-dcf5-4b12f87558fa"
      },
      "execution_count": 31,
      "outputs": [
        {
          "output_type": "stream",
          "name": "stdout",
          "text": [
            "Model: \"sequential\"\n",
            "_________________________________________________________________\n",
            " Layer (type)                Output Shape              Param #   \n",
            "=================================================================\n",
            " embedding (Embedding)       (None, None, 16)          160016    \n",
            "                                                                 \n",
            " dropout (Dropout)           (None, None, 16)          0         \n",
            "                                                                 \n",
            " global_average_pooling1d (  (None, 16)                0         \n",
            " GlobalAveragePooling1D)                                         \n",
            "                                                                 \n",
            " dropout_1 (Dropout)         (None, 16)                0         \n",
            "                                                                 \n",
            " dense (Dense)               (None, 1)                 17        \n",
            "                                                                 \n",
            "=================================================================\n",
            "Total params: 160033 (625.13 KB)\n",
            "Trainable params: 160033 (625.13 KB)\n",
            "Non-trainable params: 0 (0.00 Byte)\n",
            "_________________________________________________________________\n"
          ]
        }
      ]
    },
    {
      "cell_type": "code",
      "source": [
        "model.compile(loss=losses.BinaryCrossentropy(from_logits=True),\n",
        "              optimizer='adam',\n",
        "              metrics=tf.metrics.BinaryAccuracy(threshold=0.0))"
      ],
      "metadata": {
        "id": "sMpW-xgMXhnD"
      },
      "execution_count": 32,
      "outputs": []
    },
    {
      "cell_type": "code",
      "source": [
        "epochs=10\n",
        "history = model.fit(\n",
        "    train_ds,\n",
        "    validation_data = val_ds,\n",
        "    epochs=epochs\n",
        ")"
      ],
      "metadata": {
        "colab": {
          "base_uri": "https://localhost:8080/"
        },
        "id": "JqQncLZCXzxC",
        "outputId": "264d71f1-4598-4a4b-da86-de5749ad2c02"
      },
      "execution_count": 33,
      "outputs": [
        {
          "output_type": "stream",
          "name": "stdout",
          "text": [
            "Epoch 1/10\n",
            "625/625 [==============================] - 12s 17ms/step - loss: 0.6644 - binary_accuracy: 0.6915 - val_loss: 0.6109 - val_binary_accuracy: 0.7796\n",
            "Epoch 2/10\n",
            "625/625 [==============================] - 6s 10ms/step - loss: 0.5501 - binary_accuracy: 0.8000 - val_loss: 0.4868 - val_binary_accuracy: 0.8286\n",
            "Epoch 3/10\n",
            "625/625 [==============================] - 7s 11ms/step - loss: 0.4461 - binary_accuracy: 0.8443 - val_loss: 0.4013 - val_binary_accuracy: 0.8616\n",
            "Epoch 4/10\n",
            "625/625 [==============================] - 7s 12ms/step - loss: 0.3788 - binary_accuracy: 0.8651 - val_loss: 0.3480 - val_binary_accuracy: 0.8766\n",
            "Epoch 5/10\n",
            "625/625 [==============================] - 6s 10ms/step - loss: 0.3359 - binary_accuracy: 0.8783 - val_loss: 0.3118 - val_binary_accuracy: 0.8885\n",
            "Epoch 6/10\n",
            "625/625 [==============================] - 6s 10ms/step - loss: 0.3053 - binary_accuracy: 0.8892 - val_loss: 0.2849 - val_binary_accuracy: 0.8976\n",
            "Epoch 7/10\n",
            "625/625 [==============================] - 7s 11ms/step - loss: 0.2820 - binary_accuracy: 0.8965 - val_loss: 0.2637 - val_binary_accuracy: 0.9040\n",
            "Epoch 8/10\n",
            "625/625 [==============================] - 6s 10ms/step - loss: 0.2633 - binary_accuracy: 0.9043 - val_loss: 0.2455 - val_binary_accuracy: 0.9110\n",
            "Epoch 9/10\n",
            "625/625 [==============================] - 6s 10ms/step - loss: 0.2458 - binary_accuracy: 0.9100 - val_loss: 0.2300 - val_binary_accuracy: 0.9180\n",
            "Epoch 10/10\n",
            "625/625 [==============================] - 7s 11ms/step - loss: 0.2317 - binary_accuracy: 0.9166 - val_loss: 0.2165 - val_binary_accuracy: 0.9222\n"
          ]
        }
      ]
    },
    {
      "cell_type": "code",
      "source": [
        "loss,accuracy = model.evaluate(test_ds)"
      ],
      "metadata": {
        "colab": {
          "base_uri": "https://localhost:8080/"
        },
        "id": "Cb1u7vL-YkEL",
        "outputId": "c0783cc3-65d9-453b-ea40-291f0d9f46d6"
      },
      "execution_count": 34,
      "outputs": [
        {
          "output_type": "stream",
          "name": "stdout",
          "text": [
            "782/782 [==============================] - 11s 14ms/step - loss: 0.3099 - binary_accuracy: 0.8737\n"
          ]
        }
      ]
    },
    {
      "cell_type": "code",
      "source": [
        "history_dict = history.history\n",
        "history_dict.keys()"
      ],
      "metadata": {
        "colab": {
          "base_uri": "https://localhost:8080/"
        },
        "id": "qNP9Gn5zY7fu",
        "outputId": "da26c608-c8eb-43a7-b2cc-22d0408d2d06"
      },
      "execution_count": 38,
      "outputs": [
        {
          "output_type": "execute_result",
          "data": {
            "text/plain": [
              "dict_keys(['loss', 'binary_accuracy', 'val_loss', 'val_binary_accuracy'])"
            ]
          },
          "metadata": {},
          "execution_count": 38
        }
      ]
    },
    {
      "cell_type": "code",
      "source": [
        "acc = history_dict['binary_accuracy']\n",
        "val_acc = history_dict['val_binary_accuracy']\n",
        "\n",
        "loss = history_dict['loss']\n",
        "val_loss = history_dict['val_loss']\n",
        "\n",
        "epochs = range(1,len(acc)+1)\n",
        "\n",
        "\n",
        "plt.plot(epochs,loss,'bo',label='Training Loss')\n",
        "plt.plot(epochs,val_loss,'b',label='Validation Loss')\n",
        "\n",
        "plt.title('Strata Treningu i Walidacji')\n",
        "plt.xlabel('Epochs')\n",
        "plt.ylabel('Loss')\n",
        "plt.legend()\n",
        "\n",
        "plt.show()"
      ],
      "metadata": {
        "colab": {
          "base_uri": "https://localhost:8080/",
          "height": 492
        },
        "id": "i89_YeLqZPrv",
        "outputId": "a340e621-5f17-42d5-a510-897dc45eeada"
      },
      "execution_count": 39,
      "outputs": [
        {
          "output_type": "display_data",
          "data": {
            "text/plain": [
              "<Figure size 640x480 with 1 Axes>"
            ],
            "image/png": "[encoded data removed]"
          },
          "metadata": {}
        }
      ]
    },
    {
      "cell_type": "code",
      "source": [
        "export_model = tf.keras.Sequential([\n",
        "    vectorize_layer,\n",
        "    model,\n",
        "    layers.Activation('sigmoid')\n",
        "\n",
        "])\n",
        "\n",
        "export_model.compile(\n",
        "    loss=losses.BinaryCrossentropy(from_logits=False),\n",
        "    optimizer='adam',\n",
        "    metrics=['accuracy']\n",
        ")\n",
        "\n",
        "loss,accuracy = export_model.evaluate(raw_test_ds)\n",
        "print(accuracy)"
      ],
      "metadata": {
        "colab": {
          "base_uri": "https://localhost:8080/"
        },
        "id": "6GJMkYPLcLuV",
        "outputId": "f1cf3597-e3c4-4bad-e991-154e2959f577"
      },
      "execution_count": 41,
      "outputs": [
        {
          "output_type": "stream",
          "name": "stdout",
          "text": [
            "782/782 [==============================] - 6s 7ms/step - loss: 0.3099 - accuracy: 0.8737\n",
            "0.8737199902534485\n"
          ]
        }
      ]
    },
    {
      "cell_type": "code",
      "source": [
        "testy = [\n",
        "    \"The movie was great!\",\n",
        "    \"The movie was okay.\",\n",
        "    \"The movie was terrible.\",\n",
        "    \"Very bad movie!\",\n",
        "    \"Big Shit!\",\n",
        "    \"Disaster.\",\n",
        "    \"Beautiful disaster\",\n",
        "    \"Głupi film.\",\n",
        "    \"The movie was bad bad bad bad bad bad\",\n",
        "    \"The movie was okay okay okay okay okay okay okay okay.\",\n",
        "    \"Great Great Great Great Great Great Great\",\n",
        "    \"The movie was good with good acting but a poor screenplay.\"\n",
        "]"
      ],
      "metadata": {
        "id": "XtiKn_ameLXa"
      },
      "execution_count": 44,
      "outputs": []
    },
    {
      "cell_type": "code",
      "source": [
        "export_model.predict(testy)"
      ],
      "metadata": {
        "colab": {
          "base_uri": "https://localhost:8080/"
        },
        "id": "GLV6OPkFeMqL",
        "outputId": "ff633768-e8e7-4033-cbc8-d48ea847c81a"
      },
      "execution_count": 45,
      "outputs": [
        {
          "output_type": "stream",
          "name": "stdout",
          "text": [
            "1/1 [==============================] - 0s 55ms/step\n"
          ]
        },
        {
          "output_type": "execute_result",
          "data": {
            "text/plain": [
              "array([[0.6321312 ],\n",
              "       [0.4574149 ],\n",
              "       [0.36805204],\n",
              "       [0.4290458 ],\n",
              "       [0.5403604 ],\n",
              "       [0.47541147],\n",
              "       [0.56852746],\n",
              "       [0.5342772 ],\n",
              "       [0.03611564],\n",
              "       [0.14495745],\n",
              "       [0.97092044],\n",
              "       [0.35138395]], dtype=float32)"
            ]
          },
          "metadata": {},
          "execution_count": 45
        }
      ]
    }
  ]
}